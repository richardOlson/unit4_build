{
 "cells": [
  {
   "cell_type": "code",
   "execution_count": 3,
   "metadata": {},
   "outputs": [],
   "source": [
    "import os\n",
    "import pandas as pd\n",
    "import ast\n",
    "from sklearn.preprocessing import LabelEncoder"
   ]
  },
  {
   "cell_type": "code",
   "execution_count": 4,
   "metadata": {},
   "outputs": [],
   "source": [
    "path = os.path.join(\".\", \"data.csv\")"
   ]
  },
  {
   "cell_type": "code",
   "execution_count": 5,
   "metadata": {},
   "outputs": [],
   "source": [
    "# reading in the data from the file into csv\n",
    "df = pd.read_csv(path)"
   ]
  },
  {
   "cell_type": "code",
   "execution_count": 6,
   "metadata": {},
   "outputs": [
    {
     "output_type": "execute_result",
     "data": {
      "text/plain": "   Unnamed: 0  acousticness  \\\n0           0         0.732   \n1           1         0.982   \n\n                                             artists  danceability  \\\n0                                     ['Dennis Day']         0.819   \n1  ['Sergei Rachmaninoff', 'James Levine', 'Berli...         0.279   \n\n   duration_ms  energy  explicit                      id  instrumentalness  \\\n0       180533   0.341         0  7xPhfUan2yNtyFG0cUWkt8             0.000   \n1       831667   0.211         0  4BJqT0PrAfrxzMOxytFOIz             0.878   \n\n   key  liveness  loudness  mode  \\\n0    7     0.160   -12.441     1   \n1   10     0.665   -20.096     1   \n\n                                                name  popularity release_date  \\\n0                            Clancy Lowered the Boom           8         1921   \n1  Piano Concerto No. 3 in D Minor, Op. 30: III. ...           5         1921   \n\n   speechiness   tempo  valence  year  \n0       0.4150  60.936   0.9630  1921  \n1       0.0366  80.954   0.0594  1921  ",
      "text/html": "<div>\n<style scoped>\n    .dataframe tbody tr th:only-of-type {\n        vertical-align: middle;\n    }\n\n    .dataframe tbody tr th {\n        vertical-align: top;\n    }\n\n    .dataframe thead th {\n        text-align: right;\n    }\n</style>\n<table border=\"1\" class=\"dataframe\">\n  <thead>\n    <tr style=\"text-align: right;\">\n      <th></th>\n      <th>Unnamed: 0</th>\n      <th>acousticness</th>\n      <th>artists</th>\n      <th>danceability</th>\n      <th>duration_ms</th>\n      <th>energy</th>\n      <th>explicit</th>\n      <th>id</th>\n      <th>instrumentalness</th>\n      <th>key</th>\n      <th>liveness</th>\n      <th>loudness</th>\n      <th>mode</th>\n      <th>name</th>\n      <th>popularity</th>\n      <th>release_date</th>\n      <th>speechiness</th>\n      <th>tempo</th>\n      <th>valence</th>\n      <th>year</th>\n    </tr>\n  </thead>\n  <tbody>\n    <tr>\n      <th>0</th>\n      <td>0</td>\n      <td>0.732</td>\n      <td>['Dennis Day']</td>\n      <td>0.819</td>\n      <td>180533</td>\n      <td>0.341</td>\n      <td>0</td>\n      <td>7xPhfUan2yNtyFG0cUWkt8</td>\n      <td>0.000</td>\n      <td>7</td>\n      <td>0.160</td>\n      <td>-12.441</td>\n      <td>1</td>\n      <td>Clancy Lowered the Boom</td>\n      <td>8</td>\n      <td>1921</td>\n      <td>0.4150</td>\n      <td>60.936</td>\n      <td>0.9630</td>\n      <td>1921</td>\n    </tr>\n    <tr>\n      <th>1</th>\n      <td>1</td>\n      <td>0.982</td>\n      <td>['Sergei Rachmaninoff', 'James Levine', 'Berli...</td>\n      <td>0.279</td>\n      <td>831667</td>\n      <td>0.211</td>\n      <td>0</td>\n      <td>4BJqT0PrAfrxzMOxytFOIz</td>\n      <td>0.878</td>\n      <td>10</td>\n      <td>0.665</td>\n      <td>-20.096</td>\n      <td>1</td>\n      <td>Piano Concerto No. 3 in D Minor, Op. 30: III. ...</td>\n      <td>5</td>\n      <td>1921</td>\n      <td>0.0366</td>\n      <td>80.954</td>\n      <td>0.0594</td>\n      <td>1921</td>\n    </tr>\n  </tbody>\n</table>\n</div>"
     },
     "metadata": {},
     "execution_count": 6
    }
   ],
   "source": [
    "df.head(2)"
   ]
  },
  {
   "cell_type": "code",
   "execution_count": 26,
   "metadata": {},
   "outputs": [],
   "source": [
    "# function that will take in a list and then will create a datafrom \n",
    "# from the list if the list is greater than 1.\n",
    "# if the list is one it will then just use the name\n",
    "def clean_artists(df):\n",
    "    new_df = df.copy()\n",
    "    # empty dataFrame\n",
    "    theDf = pd.DataFrame(columns=new_df.columns.to_list())\n",
    "    for i in range(len(new_df)):\n",
    "        x =  new_df.iloc[i][\"artists\"]\n",
    "        x = ast.literal_eval(x)\n",
    "        breakpoint()\n",
    "        for j, val in enumerate(x):\n",
    "            if j == 0:\n",
    "                new_df.loc[i, \"artists\"] = val\n",
    "            else:\n",
    "\n",
    "                appendDf = df.iloc[i]\n",
    "                breakpoint()\n",
    "                # now changing the artist name\n",
    "                appendDf[\"artists\"] = val\n",
    "                # appending to the new \n",
    "                theDf =  theDf.append(appendDf, ignore_index = True )\n",
    "    # now doing the appending of the new data to the current dataframe\n",
    "    new_df.append(theDf, ignore_index=True)\n",
    "\n",
    "    return new_df\n",
    "        \n"
   ]
  },
  {
   "cell_type": "code",
   "execution_count": 27,
   "metadata": {
    "tags": []
   },
   "outputs": [
    {
     "output_type": "stream",
     "name": "stdout",
     "text": "> <ipython-input-26-813e618c7251>(12)clean_artists()\n-> for j, val in enumerate(x):\n> <ipython-input-26-813e618c7251>(13)clean_artists()\n-> if j == 0:\n> <ipython-input-26-813e618c7251>(14)clean_artists()\n-> new_df.loc[i, \"artists\"] = val\n> <ipython-input-26-813e618c7251>(12)clean_artists()\n-> for j, val in enumerate(x):\n> <ipython-input-26-813e618c7251>(8)clean_artists()\n-> for i in range(len(new_df)):\n> <ipython-input-26-813e618c7251>(9)clean_artists()\n-> x =  new_df.iloc[i][\"artists\"]\n> <ipython-input-26-813e618c7251>(10)clean_artists()\n-> x = ast.literal_eval(x)\n> <ipython-input-26-813e618c7251>(11)clean_artists()\n-> breakpoint()\n> <ipython-input-26-813e618c7251>(12)clean_artists()\n-> for j, val in enumerate(x):\n> <ipython-input-26-813e618c7251>(13)clean_artists()\n-> if j == 0:\n> <ipython-input-26-813e618c7251>(14)clean_artists()\n-> new_df.loc[i, \"artists\"] = val\n> <ipython-input-26-813e618c7251>(12)clean_artists()\n-> for j, val in enumerate(x):\n> <ipython-input-26-813e618c7251>(13)clean_artists()\n-> if j == 0:\n> <ipython-input-26-813e618c7251>(17)clean_artists()\n-> appendDf = df.iloc[i]\n> <ipython-input-26-813e618c7251>(18)clean_artists()\n-> breakpoint()\n> <ipython-input-26-813e618c7251>(20)clean_artists()\n-> appendDf[\"artists\"] = val\n> <ipython-input-26-813e618c7251>(22)clean_artists()\n-> theDf =  theDf.append(appendDf, ignore_index = True )\nUnnamed: 0                                                          1\nacousticness                                                    0.982\nartists                                                  James Levine\ndanceability                                                    0.279\nduration_ms                                                    831667\nenergy                                                          0.211\nexplicit                                                            0\nid                                             4BJqT0PrAfrxzMOxytFOIz\ninstrumentalness                                                0.878\nkey                                                                10\nliveness                                                        0.665\nloudness                                                      -20.096\nmode                                                                1\nname                Piano Concerto No. 3 in D Minor, Op. 30: III. ...\npopularity                                                          5\nrelease_date                                                     1921\nspeechiness                                                    0.0366\ntempo                                                          80.954\nvalence                                                        0.0594\nyear                                                             1921\nName: 1, dtype: object\n> <ipython-input-26-813e618c7251>(12)clean_artists()\n-> for j, val in enumerate(x):\n  Unnamed: 0  acousticness       artists  danceability duration_ms  energy  \\\n0          1         0.982  James Levine         0.279      831667   0.211   \n\n  explicit                      id  instrumentalness key  liveness  loudness  \\\n0        0  4BJqT0PrAfrxzMOxytFOIz             0.878  10     0.665   -20.096   \n\n  mode                                               name popularity  \\\n0    1  Piano Concerto No. 3 in D Minor, Op. 30: III. ...          5   \n\n  release_date  speechiness   tempo  valence  year  \n0         1921       0.0366  80.954   0.0594  1921  \n> <ipython-input-26-813e618c7251>(13)clean_artists()\n-> if j == 0:\n> <ipython-input-26-813e618c7251>(17)clean_artists()\n-> appendDf = df.iloc[i]\n  Unnamed: 0  acousticness       artists  danceability duration_ms  energy  \\\n0          1         0.982  James Levine         0.279      831667   0.211   \n\n  explicit                      id  instrumentalness key  liveness  loudness  \\\n0        0  4BJqT0PrAfrxzMOxytFOIz             0.878  10     0.665   -20.096   \n\n  mode                                               name popularity  \\\n0    1  Piano Concerto No. 3 in D Minor, Op. 30: III. ...          5   \n\n  release_date  speechiness   tempo  valence  year  \n0         1921       0.0366  80.954   0.0594  1921  \n--Call--\n> c:\\users\\porte\\.virtualenvs\\build-pdbzt-8h\\lib\\site-packages\\pandas\\core\\indexing.py(93)iloc()\n-> @property\n> c:\\users\\porte\\.virtualenvs\\build-pdbzt-8h\\lib\\site-packages\\pandas\\core\\indexing.py(229)iloc()\n-> return _iLocIndexer(\"iloc\", self)\n--Return--\n> c:\\users\\porte\\.virtualenvs\\build-pdbzt-8h\\lib\\site-packages\\pandas\\core\\indexing.py(229)iloc()-><pandas.core....0027D499D8368>\n-> return _iLocIndexer(\"iloc\", self)\n--Call--\n> c:\\users\\porte\\.virtualenvs\\build-pdbzt-8h\\lib\\site-packages\\pandas\\core\\indexing.py(1754)__getitem__()\n-> def __getitem__(self, key):\n> c:\\users\\porte\\.virtualenvs\\build-pdbzt-8h\\lib\\site-packages\\pandas\\core\\indexing.py(1755)__getitem__()\n-> if type(key) is tuple:\n> c:\\users\\porte\\.virtualenvs\\build-pdbzt-8h\\lib\\site-packages\\pandas\\core\\indexing.py(1765)__getitem__()\n-> axis = self.axis or 0\n> c:\\users\\porte\\.virtualenvs\\build-pdbzt-8h\\lib\\site-packages\\pandas\\core\\indexing.py(1767)__getitem__()\n-> maybe_callable = com.apply_if_callable(key, self.obj)\n> c:\\users\\porte\\.virtualenvs\\build-pdbzt-8h\\lib\\site-packages\\pandas\\core\\indexing.py(1768)__getitem__()\n-> return self._getitem_axis(maybe_callable, axis=axis)\n--Return--\n> c:\\users\\porte\\.virtualenvs\\build-pdbzt-8h\\lib\\site-packages\\pandas\\core\\indexing.py(1768)__getitem__()->Unnamed: 0   ... dtype: object\n-> return self._getitem_axis(maybe_callable, axis=axis)\n> <ipython-input-26-813e618c7251>(18)clean_artists()\n-> breakpoint()\n> <ipython-input-26-813e618c7251>(20)clean_artists()\n-> appendDf[\"artists\"] = val\n> <ipython-input-26-813e618c7251>(22)clean_artists()\n-> theDf =  theDf.append(appendDf, ignore_index = True )\n> <ipython-input-26-813e618c7251>(12)clean_artists()\n-> for j, val in enumerate(x):\n> <ipython-input-26-813e618c7251>(8)clean_artists()\n-> for i in range(len(new_df)):\n> <ipython-input-26-813e618c7251>(9)clean_artists()\n-> x =  new_df.iloc[i][\"artists\"]\n> <ipython-input-26-813e618c7251>(10)clean_artists()\n-> x = ast.literal_eval(x)\n> <ipython-input-26-813e618c7251>(11)clean_artists()\n-> breakpoint()\n> <ipython-input-26-813e618c7251>(12)clean_artists()\n-> for j, val in enumerate(x):\n> <ipython-input-26-813e618c7251>(11)clean_artists()\n-> breakpoint()\n> <ipython-input-26-813e618c7251>(20)clean_artists()\n-> appendDf[\"artists\"] = val\n  Unnamed: 0  acousticness                  artists  danceability duration_ms  \\\n0          1         0.982             James Levine         0.279      831667   \n1          1         0.982  Berliner Philharmoniker         0.279      831667   \n\n   energy explicit                      id  instrumentalness key  liveness  \\\n0   0.211        0  4BJqT0PrAfrxzMOxytFOIz             0.878  10     0.665   \n1   0.211        0  4BJqT0PrAfrxzMOxytFOIz             0.878  10     0.665   \n\n   loudness mode                                               name  \\\n0   -20.096    1  Piano Concerto No. 3 in D Minor, Op. 30: III. ...   \n1   -20.096    1  Piano Concerto No. 3 in D Minor, Op. 30: III. ...   \n\n  popularity release_date  speechiness   tempo  valence  year  \n0          5         1921       0.0366  80.954   0.0594  1921  \n1          5         1921       0.0366  80.954   0.0594  1921  \n"
    },
    {
     "output_type": "error",
     "ename": "BdbQuit",
     "evalue": "",
     "traceback": [
      "\u001b[1;31m---------------------------------------------------------------------------\u001b[0m",
      "\u001b[1;31mBdbQuit\u001b[0m                                   Traceback (most recent call last)",
      "\u001b[1;32m<ipython-input-27-0f1fcb074502>\u001b[0m in \u001b[0;36m<module>\u001b[1;34m\u001b[0m\n\u001b[1;32m----> 1\u001b[1;33m \u001b[0mdf_clean\u001b[0m \u001b[1;33m=\u001b[0m \u001b[0mclean_artists\u001b[0m\u001b[1;33m(\u001b[0m\u001b[0mdf\u001b[0m\u001b[1;33m)\u001b[0m\u001b[1;33m\u001b[0m\u001b[1;33m\u001b[0m\u001b[0m\n\u001b[0m",
      "\u001b[1;32m<ipython-input-26-813e618c7251>\u001b[0m in \u001b[0;36mclean_artists\u001b[1;34m(df)\u001b[0m\n\u001b[0;32m     18\u001b[0m                 \u001b[0mbreakpoint\u001b[0m\u001b[1;33m(\u001b[0m\u001b[1;33m)\u001b[0m\u001b[1;33m\u001b[0m\u001b[1;33m\u001b[0m\u001b[0m\n\u001b[0;32m     19\u001b[0m                 \u001b[1;31m# now changing the artist name\u001b[0m\u001b[1;33m\u001b[0m\u001b[1;33m\u001b[0m\u001b[1;33m\u001b[0m\u001b[0m\n\u001b[1;32m---> 20\u001b[1;33m                 \u001b[0mappendDf\u001b[0m\u001b[1;33m[\u001b[0m\u001b[1;34m\"artists\"\u001b[0m\u001b[1;33m]\u001b[0m \u001b[1;33m=\u001b[0m \u001b[0mval\u001b[0m\u001b[1;33m\u001b[0m\u001b[1;33m\u001b[0m\u001b[0m\n\u001b[0m\u001b[0;32m     21\u001b[0m                 \u001b[1;31m# appending to the new\u001b[0m\u001b[1;33m\u001b[0m\u001b[1;33m\u001b[0m\u001b[1;33m\u001b[0m\u001b[0m\n\u001b[0;32m     22\u001b[0m                 \u001b[0mtheDf\u001b[0m \u001b[1;33m=\u001b[0m  \u001b[0mtheDf\u001b[0m\u001b[1;33m.\u001b[0m\u001b[0mappend\u001b[0m\u001b[1;33m(\u001b[0m\u001b[0mappendDf\u001b[0m\u001b[1;33m,\u001b[0m \u001b[0mignore_index\u001b[0m \u001b[1;33m=\u001b[0m \u001b[1;32mTrue\u001b[0m \u001b[1;33m)\u001b[0m\u001b[1;33m\u001b[0m\u001b[1;33m\u001b[0m\u001b[0m\n",
      "\u001b[1;32m<ipython-input-26-813e618c7251>\u001b[0m in \u001b[0;36mclean_artists\u001b[1;34m(df)\u001b[0m\n\u001b[0;32m     18\u001b[0m                 \u001b[0mbreakpoint\u001b[0m\u001b[1;33m(\u001b[0m\u001b[1;33m)\u001b[0m\u001b[1;33m\u001b[0m\u001b[1;33m\u001b[0m\u001b[0m\n\u001b[0;32m     19\u001b[0m                 \u001b[1;31m# now changing the artist name\u001b[0m\u001b[1;33m\u001b[0m\u001b[1;33m\u001b[0m\u001b[1;33m\u001b[0m\u001b[0m\n\u001b[1;32m---> 20\u001b[1;33m                 \u001b[0mappendDf\u001b[0m\u001b[1;33m[\u001b[0m\u001b[1;34m\"artists\"\u001b[0m\u001b[1;33m]\u001b[0m \u001b[1;33m=\u001b[0m \u001b[0mval\u001b[0m\u001b[1;33m\u001b[0m\u001b[1;33m\u001b[0m\u001b[0m\n\u001b[0m\u001b[0;32m     21\u001b[0m                 \u001b[1;31m# appending to the new\u001b[0m\u001b[1;33m\u001b[0m\u001b[1;33m\u001b[0m\u001b[1;33m\u001b[0m\u001b[0m\n\u001b[0;32m     22\u001b[0m                 \u001b[0mtheDf\u001b[0m \u001b[1;33m=\u001b[0m  \u001b[0mtheDf\u001b[0m\u001b[1;33m.\u001b[0m\u001b[0mappend\u001b[0m\u001b[1;33m(\u001b[0m\u001b[0mappendDf\u001b[0m\u001b[1;33m,\u001b[0m \u001b[0mignore_index\u001b[0m \u001b[1;33m=\u001b[0m \u001b[1;32mTrue\u001b[0m \u001b[1;33m)\u001b[0m\u001b[1;33m\u001b[0m\u001b[1;33m\u001b[0m\u001b[0m\n",
      "\u001b[1;32mc:\\users\\porte\\anaconda3\\lib\\bdb.py\u001b[0m in \u001b[0;36mtrace_dispatch\u001b[1;34m(self, frame, event, arg)\u001b[0m\n\u001b[0;32m     86\u001b[0m             \u001b[1;32mreturn\u001b[0m \u001b[1;31m# None\u001b[0m\u001b[1;33m\u001b[0m\u001b[1;33m\u001b[0m\u001b[0m\n\u001b[0;32m     87\u001b[0m         \u001b[1;32mif\u001b[0m \u001b[0mevent\u001b[0m \u001b[1;33m==\u001b[0m \u001b[1;34m'line'\u001b[0m\u001b[1;33m:\u001b[0m\u001b[1;33m\u001b[0m\u001b[1;33m\u001b[0m\u001b[0m\n\u001b[1;32m---> 88\u001b[1;33m             \u001b[1;32mreturn\u001b[0m \u001b[0mself\u001b[0m\u001b[1;33m.\u001b[0m\u001b[0mdispatch_line\u001b[0m\u001b[1;33m(\u001b[0m\u001b[0mframe\u001b[0m\u001b[1;33m)\u001b[0m\u001b[1;33m\u001b[0m\u001b[1;33m\u001b[0m\u001b[0m\n\u001b[0m\u001b[0;32m     89\u001b[0m         \u001b[1;32mif\u001b[0m \u001b[0mevent\u001b[0m \u001b[1;33m==\u001b[0m \u001b[1;34m'call'\u001b[0m\u001b[1;33m:\u001b[0m\u001b[1;33m\u001b[0m\u001b[1;33m\u001b[0m\u001b[0m\n\u001b[0;32m     90\u001b[0m             \u001b[1;32mreturn\u001b[0m \u001b[0mself\u001b[0m\u001b[1;33m.\u001b[0m\u001b[0mdispatch_call\u001b[0m\u001b[1;33m(\u001b[0m\u001b[0mframe\u001b[0m\u001b[1;33m,\u001b[0m \u001b[0marg\u001b[0m\u001b[1;33m)\u001b[0m\u001b[1;33m\u001b[0m\u001b[1;33m\u001b[0m\u001b[0m\n",
      "\u001b[1;32mc:\\users\\porte\\anaconda3\\lib\\bdb.py\u001b[0m in \u001b[0;36mdispatch_line\u001b[1;34m(self, frame)\u001b[0m\n\u001b[0;32m    111\u001b[0m         \u001b[1;32mif\u001b[0m \u001b[0mself\u001b[0m\u001b[1;33m.\u001b[0m\u001b[0mstop_here\u001b[0m\u001b[1;33m(\u001b[0m\u001b[0mframe\u001b[0m\u001b[1;33m)\u001b[0m \u001b[1;32mor\u001b[0m \u001b[0mself\u001b[0m\u001b[1;33m.\u001b[0m\u001b[0mbreak_here\u001b[0m\u001b[1;33m(\u001b[0m\u001b[0mframe\u001b[0m\u001b[1;33m)\u001b[0m\u001b[1;33m:\u001b[0m\u001b[1;33m\u001b[0m\u001b[1;33m\u001b[0m\u001b[0m\n\u001b[0;32m    112\u001b[0m             \u001b[0mself\u001b[0m\u001b[1;33m.\u001b[0m\u001b[0muser_line\u001b[0m\u001b[1;33m(\u001b[0m\u001b[0mframe\u001b[0m\u001b[1;33m)\u001b[0m\u001b[1;33m\u001b[0m\u001b[1;33m\u001b[0m\u001b[0m\n\u001b[1;32m--> 113\u001b[1;33m             \u001b[1;32mif\u001b[0m \u001b[0mself\u001b[0m\u001b[1;33m.\u001b[0m\u001b[0mquitting\u001b[0m\u001b[1;33m:\u001b[0m \u001b[1;32mraise\u001b[0m \u001b[0mBdbQuit\u001b[0m\u001b[1;33m\u001b[0m\u001b[1;33m\u001b[0m\u001b[0m\n\u001b[0m\u001b[0;32m    114\u001b[0m         \u001b[1;32mreturn\u001b[0m \u001b[0mself\u001b[0m\u001b[1;33m.\u001b[0m\u001b[0mtrace_dispatch\u001b[0m\u001b[1;33m\u001b[0m\u001b[1;33m\u001b[0m\u001b[0m\n\u001b[0;32m    115\u001b[0m \u001b[1;33m\u001b[0m\u001b[0m\n",
      "\u001b[1;31mBdbQuit\u001b[0m: "
     ]
    }
   ],
   "source": [
    "df_clean = clean_artists(df)"
   ]
  },
  {
   "cell_type": "code",
   "execution_count": null,
   "metadata": {},
   "outputs": [],
   "source": [
    "df_clean.head()"
   ]
  },
  {
   "cell_type": "code",
   "execution_count": 26,
   "metadata": {},
   "outputs": [
    {
     "output_type": "execute_result",
     "data": {
      "text/plain": "['Sergei Rachmaninoff', 'James Levine', 'Berliner Philharmoniker']"
     },
     "metadata": {},
     "execution_count": 26
    }
   ],
   "source": [
    "x = df.iloc[1][\"artists\"]\n",
    "str(x)\n",
    "# This will make it a list\n",
    "x = ast.literal_eval(x)\n",
    "if len(x) > 1:\n",
    "    # looping throug the x\n",
    "    for theVal in x:\n",
    "        someDf = \n",
    "#x = x.strip('][')#.split(', ') \n",
    "\n",
    "x"
   ]
  },
  {
   "cell_type": "code",
   "execution_count": 17,
   "metadata": {},
   "outputs": [
    {
     "output_type": "execute_result",
     "data": {
      "text/plain": "\"['Dennis Day']\""
     },
     "metadata": {},
     "execution_count": 17
    }
   ],
   "source": [
    "df.iloc[0][\"artists\"]"
   ]
  },
  {
   "cell_type": "code",
   "execution_count": null,
   "metadata": {},
   "outputs": [],
   "source": []
  }
 ],
 "metadata": {
  "language_info": {
   "codemirror_mode": {
    "name": "ipython",
    "version": 3
   },
   "file_extension": ".py",
   "mimetype": "text/x-python",
   "name": "python",
   "nbconvert_exporter": "python",
   "pygments_lexer": "ipython3",
   "version": "3.7.4-final"
  },
  "orig_nbformat": 2,
  "kernelspec": {
   "name": "python37464bitbuildpipenv70ddcaced9b64b8294a406672e403a6b",
   "display_name": "Python 3.7.4 64-bit ('build': pipenv)"
  }
 },
 "nbformat": 4,
 "nbformat_minor": 2
}