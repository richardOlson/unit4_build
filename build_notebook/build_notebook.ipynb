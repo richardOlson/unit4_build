{
 "cells": [
  {
   "cell_type": "code",
   "execution_count": 1,
   "metadata": {},
   "outputs": [],
   "source": [
    "import os\n",
    "import pandas as pd"
   ]
  },
  {
   "cell_type": "code",
   "execution_count": 2,
   "metadata": {},
   "outputs": [],
   "source": [
    "path = os.path.join(\".\", \"data.csv\")"
   ]
  },
  {
   "cell_type": "code",
   "execution_count": 3,
   "metadata": {},
   "outputs": [],
   "source": [
    "# reading in the data from the file into csv\n",
    "df = pd.read_csv(path)"
   ]
  },
  {
   "cell_type": "code",
   "execution_count": 4,
   "metadata": {},
   "outputs": [
    {
     "output_type": "execute_result",
     "data": {
      "text/plain": "   Unnamed: 0  acousticness  \\\n0           0         0.732   \n1           1         0.982   \n\n                                             artists  danceability  \\\n0                                     ['Dennis Day']         0.819   \n1  ['Sergei Rachmaninoff', 'James Levine', 'Berli...         0.279   \n\n   duration_ms  energy  explicit                      id  instrumentalness  \\\n0       180533   0.341         0  7xPhfUan2yNtyFG0cUWkt8             0.000   \n1       831667   0.211         0  4BJqT0PrAfrxzMOxytFOIz             0.878   \n\n   key  liveness  loudness  mode  \\\n0    7     0.160   -12.441     1   \n1   10     0.665   -20.096     1   \n\n                                                name  popularity release_date  \\\n0                            Clancy Lowered the Boom           8         1921   \n1  Piano Concerto No. 3 in D Minor, Op. 30: III. ...           5         1921   \n\n   speechiness   tempo  valence  year  \n0       0.4150  60.936   0.9630  1921  \n1       0.0366  80.954   0.0594  1921  ",
      "text/html": "<div>\n<style scoped>\n    .dataframe tbody tr th:only-of-type {\n        vertical-align: middle;\n    }\n\n    .dataframe tbody tr th {\n        vertical-align: top;\n    }\n\n    .dataframe thead th {\n        text-align: right;\n    }\n</style>\n<table border=\"1\" class=\"dataframe\">\n  <thead>\n    <tr style=\"text-align: right;\">\n      <th></th>\n      <th>Unnamed: 0</th>\n      <th>acousticness</th>\n      <th>artists</th>\n      <th>danceability</th>\n      <th>duration_ms</th>\n      <th>energy</th>\n      <th>explicit</th>\n      <th>id</th>\n      <th>instrumentalness</th>\n      <th>key</th>\n      <th>liveness</th>\n      <th>loudness</th>\n      <th>mode</th>\n      <th>name</th>\n      <th>popularity</th>\n      <th>release_date</th>\n      <th>speechiness</th>\n      <th>tempo</th>\n      <th>valence</th>\n      <th>year</th>\n    </tr>\n  </thead>\n  <tbody>\n    <tr>\n      <th>0</th>\n      <td>0</td>\n      <td>0.732</td>\n      <td>['Dennis Day']</td>\n      <td>0.819</td>\n      <td>180533</td>\n      <td>0.341</td>\n      <td>0</td>\n      <td>7xPhfUan2yNtyFG0cUWkt8</td>\n      <td>0.000</td>\n      <td>7</td>\n      <td>0.160</td>\n      <td>-12.441</td>\n      <td>1</td>\n      <td>Clancy Lowered the Boom</td>\n      <td>8</td>\n      <td>1921</td>\n      <td>0.4150</td>\n      <td>60.936</td>\n      <td>0.9630</td>\n      <td>1921</td>\n    </tr>\n    <tr>\n      <th>1</th>\n      <td>1</td>\n      <td>0.982</td>\n      <td>['Sergei Rachmaninoff', 'James Levine', 'Berli...</td>\n      <td>0.279</td>\n      <td>831667</td>\n      <td>0.211</td>\n      <td>0</td>\n      <td>4BJqT0PrAfrxzMOxytFOIz</td>\n      <td>0.878</td>\n      <td>10</td>\n      <td>0.665</td>\n      <td>-20.096</td>\n      <td>1</td>\n      <td>Piano Concerto No. 3 in D Minor, Op. 30: III. ...</td>\n      <td>5</td>\n      <td>1921</td>\n      <td>0.0366</td>\n      <td>80.954</td>\n      <td>0.0594</td>\n      <td>1921</td>\n    </tr>\n  </tbody>\n</table>\n</div>"
     },
     "metadata": {},
     "execution_count": 4
    }
   ],
   "source": [
    "df.head(2)"
   ]
  },
  {
   "cell_type": "code",
   "execution_count": null,
   "metadata": {},
   "outputs": [],
   "source": [
    "# function that will take in a list and then will create a datafrom \n",
    "# from the list if the list is greater than 1.\n",
    "# if the list is one it will then just use the name\n",
    "def clean_artists(df):\n",
    "    new_df = df.copy()\n",
    "    "
   ]
  }
 ],
 "metadata": {
  "language_info": {
   "codemirror_mode": {
    "name": "ipython",
    "version": 3
   },
   "file_extension": ".py",
   "mimetype": "text/x-python",
   "name": "python",
   "nbconvert_exporter": "python",
   "pygments_lexer": "ipython3",
   "version": "3.7.4-final"
  },
  "orig_nbformat": 2,
  "kernelspec": {
   "name": "python37464bitbuildpipenv70ddcaced9b64b8294a406672e403a6b",
   "display_name": "Python 3.7.4 64-bit ('build': pipenv)"
  }
 },
 "nbformat": 4,
 "nbformat_minor": 2
}